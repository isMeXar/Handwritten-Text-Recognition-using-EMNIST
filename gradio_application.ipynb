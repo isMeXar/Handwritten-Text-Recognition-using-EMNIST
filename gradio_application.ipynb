{
 "cells": [
  {
   "cell_type": "markdown",
   "id": "c6ae0baa",
   "metadata": {},
   "source": [
    "## Load our models"
   ]
  },
  {
   "cell_type": "code",
   "execution_count": null,
   "id": "fa616b33",
   "metadata": {},
   "outputs": [],
   "source": [
    "import cv2\n",
    "import numpy as np\n",
    "import pandas as pd\n",
    "\n",
    "# to create our interface\n",
    "import gradio as gr\n",
    "\n",
    "# to load our models\n",
    "from keras.models import load_model\n",
    "import joblib"
   ]
  },
  {
   "cell_type": "markdown",
   "id": "cba66a36",
   "metadata": {},
   "source": [
    "## Class Representation"
   ]
  },
  {
   "cell_type": "code",
   "execution_count": null,
   "id": "c9b69a66",
   "metadata": {},
   "outputs": [],
   "source": [
    "# Reading the file\n",
    "label_map = pd.read_csv(\"./dataset/EMNIST/emnist-balanced-mapping.txt\",\n",
    "                        delimiter=' ',\n",
    "                        index_col=0,\n",
    "                        header=None)\n",
    "label_map = label_map.iloc[:, 0]\n",
    "\n",
    "# Initialising an empty dictionary\n",
    "label_dictionary = {}\n",
    "\n",
    "# Running a loop for ASCII equivalent to character conversion\n",
    "for index, label in enumerate(label_map):\n",
    "    label_dictionary[index] = chr(label)"
   ]
  },
  {
   "cell_type": "markdown",
   "id": "3fac4fed",
   "metadata": {},
   "source": [
    "## Load our models"
   ]
  },
  {
   "cell_type": "code",
   "execution_count": null,
   "id": "ac120f34",
   "metadata": {},
   "outputs": [],
   "source": [
    "#Deep Learning model\n",
    "cnn_model = load_model('./saved/cnn.h5')\n",
    "\n",
    "# Machine Learning models\n",
    "svm_model = joblib.load('./saved/svm.pkl')\n",
    "rf_model = joblib.load('./saved/random_forest.pkl')\n",
    "knn_model = joblib.load('./saved/knn.pkl')\n",
    "lg_model = joblib.load('./saved/logistic_regression.pkl')\n",
    "nb_model = joblib.load('./saved/naive_bayes.pkl')\n",
    "\n",
    "models = [\n",
    "    cnn_model,\n",
    "    svm_model,\n",
    "    rf_model,\n",
    "    knn_model,\n",
    "    lg_model,\n",
    "    nb_model\n",
    "    ]"
   ]
  },
  {
   "cell_type": "markdown",
   "id": "445d6070",
   "metadata": {},
   "source": [
    "## Creating models name for dropdown-list model"
   ]
  },
  {
   "cell_type": "code",
   "execution_count": null,
   "id": "a37d8ca1",
   "metadata": {},
   "outputs": [],
   "source": [
    "model_names = [\n",
    "    \"CNN\",\n",
    "    \"SVM\",\n",
    "    \"Random forest\",\n",
    "    \"KNN\",\n",
    "    \"Logistic regression\",\n",
    "    \"Naive-Bayes\"\n",
    "    ]"
   ]
  },
  {
   "cell_type": "markdown",
   "id": "8bc4ec57",
   "metadata": {},
   "source": [
    "## Preprocess image or sketchpad drawing"
   ]
  },
  {
   "cell_type": "code",
   "execution_count": null,
   "id": "b4d93333",
   "metadata": {},
   "outputs": [],
   "source": [
    "def process_image(image, model_name):\n",
    "    gray = cv2.cvtColor(image, cv2.COLOR_BGR2GRAY)\n",
    "\n",
    "    average_color = np.mean(gray)\n",
    "    if average_color > 127:\n",
    "        inverted = cv2.bitwise_not(gray)\n",
    "        processed_image = inverted\n",
    "    else:\n",
    "        processed_image = gray\n",
    "\n",
    "    resized = cv2.resize(processed_image, (28, 28), interpolation=cv2.INTER_CUBIC)\n",
    "    \n",
    "    if model_name == \"CNN\":\n",
    "        image_array = resized.reshape((1, 28, 28, 1))\n",
    "        image_array = image_array.astype('float32') / 255\n",
    "    else:\n",
    "        image_array = resized.reshape((1, 784))\n",
    "        image_array = image_array.astype('float32')\n",
    "\n",
    "    return image_array, resized"
   ]
  },
  {
   "cell_type": "markdown",
   "id": "60a0cd48",
   "metadata": {},
   "source": [
    "## Get predictions"
   ]
  },
  {
   "cell_type": "code",
   "execution_count": null,
   "id": "f03282f8",
   "metadata": {},
   "outputs": [],
   "source": [
    "def prediction(sketchInput, model_name):\n",
    "    model_index = model_names.index(model_name)\n",
    "    \n",
    "    # Convert sketch to image\n",
    "    sketch = sketchInput.copy()\n",
    "    \n",
    "    sketch = cv2.cvtColor(sketch, cv2.COLOR_GRAY2BGR) # this is specific to sketchpad ui, delete it when working on image ui\n",
    "\n",
    "    # Preprocess image\n",
    "    testImage, resized = process_image(sketch, model_name)\n",
    "    loaded_model = models[model_index]\n",
    "    if model_index == 0:\n",
    "        prediction = np.argmax(loaded_model.predict(testImage))\n",
    "        output = label_dictionary[prediction]\n",
    "    else:\n",
    "        prediction = loaded_model.predict(testImage)\n",
    "        output = label_dictionary[prediction[0]]\n",
    "\n",
    "    return f'{output}'\n",
    "    "
   ]
  },
  {
   "cell_type": "markdown",
   "id": "afbd777e",
   "metadata": {},
   "source": [
    "## User Interface: Creation"
   ]
  },
  {
   "cell_type": "code",
   "execution_count": null,
   "id": "73ec4ca6",
   "metadata": {},
   "outputs": [],
   "source": [
    "# This interface allow te user to draw a character in the sketchapd, choose a model and get the prediction\n",
    "sketchpad_ui = gr.Interface(\n",
    "    fn=prediction, inputs=[\"sketchpad\", gr.inputs.Dropdown(model_names)], \n",
    "    outputs=\"label\"\n",
    ")\n",
    "sketchpad_ui.launch()"
   ]
  },
  {
   "cell_type": "code",
   "execution_count": null,
   "id": "ebd40e0f",
   "metadata": {},
   "outputs": [],
   "source": [
    "# This allows the user to upload an image containing a character to predict after choosing a model from dropdown-list\n",
    "image_ui = gr.Interface(\n",
    "    fn=prediction, inputs=[\"image\", gr.inputs.Dropdown(model_names)], \n",
    "    outputs=\"label\"\n",
    ")\n",
    "image_ui.launch()"
   ]
  },
  {
   "cell_type": "code",
   "execution_count": null,
   "id": "cf5e31ae",
   "metadata": {},
   "outputs": [],
   "source": []
  }
 ],
 "metadata": {
  "kernelspec": {
   "display_name": "Python 3 (ipykernel)",
   "language": "python",
   "name": "python3"
  },
  "language_info": {
   "codemirror_mode": {
    "name": "ipython",
    "version": 3
   },
   "file_extension": ".py",
   "mimetype": "text/x-python",
   "name": "python",
   "nbconvert_exporter": "python",
   "pygments_lexer": "ipython3",
   "version": "3.11.2"
  }
 },
 "nbformat": 4,
 "nbformat_minor": 5
}
