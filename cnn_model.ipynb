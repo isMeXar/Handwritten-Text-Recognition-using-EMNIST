{
 "cells": [
  {
   "cell_type": "code",
   "execution_count": 1,
   "id": "509a0dd8",
   "metadata": {},
   "outputs": [
    {
     "name": "stdout",
     "output_type": "stream",
     "text": [
      "2.6.0\n",
      "WARNING:tensorflow:From C:\\Users\\abdel\\AppData\\Local\\Temp\\ipykernel_3736\\1333134205.py:6: is_gpu_available (from tensorflow.python.framework.test_util) is deprecated and will be removed in a future version.\n",
      "Instructions for updating:\n",
      "Use `tf.config.list_physical_devices('GPU')` instead.\n"
     ]
    },
    {
     "data": {
      "text/plain": [
       "True"
      ]
     },
     "execution_count": 1,
     "metadata": {},
     "output_type": "execute_result"
    }
   ],
   "source": [
    "import tensorflow as tf\n",
    "print(tf.__version__)\n",
    "\n",
    "\n",
    "tf.config.list_physical_devices('GPU')\n",
    "tf.test.is_gpu_available()"
   ]
  },
  {
   "cell_type": "markdown",
   "id": "2451c1cd",
   "metadata": {},
   "source": [
    "# Loading Data and necessary libraries"
   ]
  },
  {
   "cell_type": "code",
   "execution_count": 2,
   "id": "b329c841",
   "metadata": {},
   "outputs": [],
   "source": [
    "import numpy as np\n",
    "import pandas as pd\n",
    "import cv2\n",
    "import matplotlib.pyplot as plt\n",
    "\n",
    "import random\n",
    "\n",
    "from sklearn.model_selection import train_test_split\n",
    "\n",
    "import tensorflow as tf\n",
    "from keras.utils import np_utils\n",
    "from keras.models import Sequential, load_model\n",
    "from keras import layers\n",
    "from keras.callbacks import EarlyStopping, ModelCheckpoint, ReduceLROnPlateau"
   ]
  },
  {
   "cell_type": "code",
   "execution_count": 3,
   "id": "d9d566e2",
   "metadata": {},
   "outputs": [],
   "source": [
    "#Reading using pandas\n",
    "train_df = pd.read_csv('./Datasets/EMNIST/emnist-balanced-train.csv', header=None)\n",
    "test_df = pd.read_csv('./Datasets/EMNIST/emnist-balanced-test.csv', header=None)\n",
    "# Add test dataset into train dataset\n",
    "df = pd.concat([train_df, test_df], ignore_index=True)\n",
    "df.head()\n",
    "# Clear memory\n",
    "del train_df\n",
    "del test_df"
   ]
  },
  {
   "cell_type": "code",
   "execution_count": 4,
   "id": "a41ebda3",
   "metadata": {},
   "outputs": [
    {
     "data": {
      "text/plain": [
       "{0: '0',\n",
       " 1: '1',\n",
       " 2: '2',\n",
       " 3: '3',\n",
       " 4: '4',\n",
       " 5: '5',\n",
       " 6: '6',\n",
       " 7: '7',\n",
       " 8: '8',\n",
       " 9: '9',\n",
       " 10: 'A',\n",
       " 11: 'B',\n",
       " 12: 'C',\n",
       " 13: 'D',\n",
       " 14: 'E',\n",
       " 15: 'F',\n",
       " 16: 'G',\n",
       " 17: 'H',\n",
       " 18: 'I',\n",
       " 19: 'J',\n",
       " 20: 'K',\n",
       " 21: 'L',\n",
       " 22: 'M',\n",
       " 23: 'N',\n",
       " 24: 'O',\n",
       " 25: 'P',\n",
       " 26: 'Q',\n",
       " 27: 'R',\n",
       " 28: 'S',\n",
       " 29: 'T',\n",
       " 30: 'U',\n",
       " 31: 'V',\n",
       " 32: 'W',\n",
       " 33: 'X',\n",
       " 34: 'Y',\n",
       " 35: 'Z',\n",
       " 36: 'a',\n",
       " 37: 'b',\n",
       " 38: 'd',\n",
       " 39: 'e',\n",
       " 40: 'f',\n",
       " 41: 'g',\n",
       " 42: 'h',\n",
       " 43: 'n',\n",
       " 44: 'q',\n",
       " 45: 'r',\n",
       " 46: 't'}"
      ]
     },
     "execution_count": 4,
     "metadata": {},
     "output_type": "execute_result"
    }
   ],
   "source": [
    "#Reading the file\n",
    "label_map = pd.read_csv(\"./Datasets/EMNIST/emnist-balanced-mapping.txt\",\n",
    "                        delimiter = ' ',\n",
    "                        index_col=0,\n",
    "                        header=None)\n",
    "label_map = label_map.iloc[:, 0]\n",
    "\n",
    "#Initialising an empty dictionary\n",
    "label_dictionary = {}\n",
    "\n",
    "#Running a loop for ASCII equivalent to character conversion\n",
    "for index, label in enumerate(label_map):\n",
    "    label_dictionary[index] = chr(label)\n",
    "\n",
    "label_dictionary"
   ]
  },
  {
   "cell_type": "code",
   "execution_count": 5,
   "id": "e0a06015",
   "metadata": {},
   "outputs": [
    {
     "data": {
      "text/plain": [
       "(131600, 785)"
      ]
     },
     "execution_count": 5,
     "metadata": {},
     "output_type": "execute_result"
    }
   ],
   "source": [
    "df.shape"
   ]
  },
  {
   "cell_type": "code",
   "execution_count": 6,
   "id": "911f7582",
   "metadata": {
    "scrolled": true
   },
   "outputs": [
    {
     "data": {
      "text/html": [
       "<div>\n",
       "<style scoped>\n",
       "    .dataframe tbody tr th:only-of-type {\n",
       "        vertical-align: middle;\n",
       "    }\n",
       "\n",
       "    .dataframe tbody tr th {\n",
       "        vertical-align: top;\n",
       "    }\n",
       "\n",
       "    .dataframe thead th {\n",
       "        text-align: right;\n",
       "    }\n",
       "</style>\n",
       "<table border=\"1\" class=\"dataframe\">\n",
       "  <thead>\n",
       "    <tr style=\"text-align: right;\">\n",
       "      <th></th>\n",
       "      <th>0</th>\n",
       "      <th>1</th>\n",
       "      <th>2</th>\n",
       "      <th>3</th>\n",
       "      <th>4</th>\n",
       "      <th>5</th>\n",
       "      <th>6</th>\n",
       "      <th>7</th>\n",
       "      <th>8</th>\n",
       "      <th>9</th>\n",
       "      <th>...</th>\n",
       "      <th>775</th>\n",
       "      <th>776</th>\n",
       "      <th>777</th>\n",
       "      <th>778</th>\n",
       "      <th>779</th>\n",
       "      <th>780</th>\n",
       "      <th>781</th>\n",
       "      <th>782</th>\n",
       "      <th>783</th>\n",
       "      <th>784</th>\n",
       "    </tr>\n",
       "  </thead>\n",
       "  <tbody>\n",
       "    <tr>\n",
       "      <th>count</th>\n",
       "      <td>131600.000000</td>\n",
       "      <td>131600.0</td>\n",
       "      <td>131600.0</td>\n",
       "      <td>131600.0</td>\n",
       "      <td>131600.0</td>\n",
       "      <td>131600.000000</td>\n",
       "      <td>131600.000000</td>\n",
       "      <td>131600.000000</td>\n",
       "      <td>131600.000000</td>\n",
       "      <td>131600.000000</td>\n",
       "      <td>...</td>\n",
       "      <td>131600.000000</td>\n",
       "      <td>131600.0</td>\n",
       "      <td>131600.0</td>\n",
       "      <td>131600.000000</td>\n",
       "      <td>131600.000000</td>\n",
       "      <td>131600.0</td>\n",
       "      <td>131600.0</td>\n",
       "      <td>131600.0</td>\n",
       "      <td>131600.0</td>\n",
       "      <td>131600.0</td>\n",
       "    </tr>\n",
       "    <tr>\n",
       "      <th>mean</th>\n",
       "      <td>23.000000</td>\n",
       "      <td>0.0</td>\n",
       "      <td>0.0</td>\n",
       "      <td>0.0</td>\n",
       "      <td>0.0</td>\n",
       "      <td>0.002036</td>\n",
       "      <td>0.012728</td>\n",
       "      <td>0.019354</td>\n",
       "      <td>0.016284</td>\n",
       "      <td>0.017447</td>\n",
       "      <td>...</td>\n",
       "      <td>0.000266</td>\n",
       "      <td>0.0</td>\n",
       "      <td>0.0</td>\n",
       "      <td>0.001854</td>\n",
       "      <td>0.000243</td>\n",
       "      <td>0.0</td>\n",
       "      <td>0.0</td>\n",
       "      <td>0.0</td>\n",
       "      <td>0.0</td>\n",
       "      <td>0.0</td>\n",
       "    </tr>\n",
       "    <tr>\n",
       "      <th>std</th>\n",
       "      <td>13.564712</td>\n",
       "      <td>0.0</td>\n",
       "      <td>0.0</td>\n",
       "      <td>0.0</td>\n",
       "      <td>0.0</td>\n",
       "      <td>0.295477</td>\n",
       "      <td>1.312534</td>\n",
       "      <td>1.586618</td>\n",
       "      <td>1.521459</td>\n",
       "      <td>1.692130</td>\n",
       "      <td>...</td>\n",
       "      <td>0.096481</td>\n",
       "      <td>0.0</td>\n",
       "      <td>0.0</td>\n",
       "      <td>0.672608</td>\n",
       "      <td>0.088211</td>\n",
       "      <td>0.0</td>\n",
       "      <td>0.0</td>\n",
       "      <td>0.0</td>\n",
       "      <td>0.0</td>\n",
       "      <td>0.0</td>\n",
       "    </tr>\n",
       "    <tr>\n",
       "      <th>min</th>\n",
       "      <td>0.000000</td>\n",
       "      <td>0.0</td>\n",
       "      <td>0.0</td>\n",
       "      <td>0.0</td>\n",
       "      <td>0.0</td>\n",
       "      <td>0.000000</td>\n",
       "      <td>0.000000</td>\n",
       "      <td>0.000000</td>\n",
       "      <td>0.000000</td>\n",
       "      <td>0.000000</td>\n",
       "      <td>...</td>\n",
       "      <td>0.000000</td>\n",
       "      <td>0.0</td>\n",
       "      <td>0.0</td>\n",
       "      <td>0.000000</td>\n",
       "      <td>0.000000</td>\n",
       "      <td>0.0</td>\n",
       "      <td>0.0</td>\n",
       "      <td>0.0</td>\n",
       "      <td>0.0</td>\n",
       "      <td>0.0</td>\n",
       "    </tr>\n",
       "    <tr>\n",
       "      <th>25%</th>\n",
       "      <td>11.000000</td>\n",
       "      <td>0.0</td>\n",
       "      <td>0.0</td>\n",
       "      <td>0.0</td>\n",
       "      <td>0.0</td>\n",
       "      <td>0.000000</td>\n",
       "      <td>0.000000</td>\n",
       "      <td>0.000000</td>\n",
       "      <td>0.000000</td>\n",
       "      <td>0.000000</td>\n",
       "      <td>...</td>\n",
       "      <td>0.000000</td>\n",
       "      <td>0.0</td>\n",
       "      <td>0.0</td>\n",
       "      <td>0.000000</td>\n",
       "      <td>0.000000</td>\n",
       "      <td>0.0</td>\n",
       "      <td>0.0</td>\n",
       "      <td>0.0</td>\n",
       "      <td>0.0</td>\n",
       "      <td>0.0</td>\n",
       "    </tr>\n",
       "    <tr>\n",
       "      <th>50%</th>\n",
       "      <td>23.000000</td>\n",
       "      <td>0.0</td>\n",
       "      <td>0.0</td>\n",
       "      <td>0.0</td>\n",
       "      <td>0.0</td>\n",
       "      <td>0.000000</td>\n",
       "      <td>0.000000</td>\n",
       "      <td>0.000000</td>\n",
       "      <td>0.000000</td>\n",
       "      <td>0.000000</td>\n",
       "      <td>...</td>\n",
       "      <td>0.000000</td>\n",
       "      <td>0.0</td>\n",
       "      <td>0.0</td>\n",
       "      <td>0.000000</td>\n",
       "      <td>0.000000</td>\n",
       "      <td>0.0</td>\n",
       "      <td>0.0</td>\n",
       "      <td>0.0</td>\n",
       "      <td>0.0</td>\n",
       "      <td>0.0</td>\n",
       "    </tr>\n",
       "    <tr>\n",
       "      <th>75%</th>\n",
       "      <td>35.000000</td>\n",
       "      <td>0.0</td>\n",
       "      <td>0.0</td>\n",
       "      <td>0.0</td>\n",
       "      <td>0.0</td>\n",
       "      <td>0.000000</td>\n",
       "      <td>0.000000</td>\n",
       "      <td>0.000000</td>\n",
       "      <td>0.000000</td>\n",
       "      <td>0.000000</td>\n",
       "      <td>...</td>\n",
       "      <td>0.000000</td>\n",
       "      <td>0.0</td>\n",
       "      <td>0.0</td>\n",
       "      <td>0.000000</td>\n",
       "      <td>0.000000</td>\n",
       "      <td>0.0</td>\n",
       "      <td>0.0</td>\n",
       "      <td>0.0</td>\n",
       "      <td>0.0</td>\n",
       "      <td>0.0</td>\n",
       "    </tr>\n",
       "    <tr>\n",
       "      <th>max</th>\n",
       "      <td>46.000000</td>\n",
       "      <td>0.0</td>\n",
       "      <td>0.0</td>\n",
       "      <td>0.0</td>\n",
       "      <td>0.0</td>\n",
       "      <td>63.000000</td>\n",
       "      <td>213.000000</td>\n",
       "      <td>217.000000</td>\n",
       "      <td>217.000000</td>\n",
       "      <td>217.000000</td>\n",
       "      <td>...</td>\n",
       "      <td>35.000000</td>\n",
       "      <td>0.0</td>\n",
       "      <td>0.0</td>\n",
       "      <td>244.000000</td>\n",
       "      <td>32.000000</td>\n",
       "      <td>0.0</td>\n",
       "      <td>0.0</td>\n",
       "      <td>0.0</td>\n",
       "      <td>0.0</td>\n",
       "      <td>0.0</td>\n",
       "    </tr>\n",
       "  </tbody>\n",
       "</table>\n",
       "<p>8 rows × 785 columns</p>\n",
       "</div>"
      ],
      "text/plain": [
       "                 0         1         2         3         4              5    \\\n",
       "count  131600.000000  131600.0  131600.0  131600.0  131600.0  131600.000000   \n",
       "mean       23.000000       0.0       0.0       0.0       0.0       0.002036   \n",
       "std        13.564712       0.0       0.0       0.0       0.0       0.295477   \n",
       "min         0.000000       0.0       0.0       0.0       0.0       0.000000   \n",
       "25%        11.000000       0.0       0.0       0.0       0.0       0.000000   \n",
       "50%        23.000000       0.0       0.0       0.0       0.0       0.000000   \n",
       "75%        35.000000       0.0       0.0       0.0       0.0       0.000000   \n",
       "max        46.000000       0.0       0.0       0.0       0.0      63.000000   \n",
       "\n",
       "                 6              7              8              9    ...  \\\n",
       "count  131600.000000  131600.000000  131600.000000  131600.000000  ...   \n",
       "mean        0.012728       0.019354       0.016284       0.017447  ...   \n",
       "std         1.312534       1.586618       1.521459       1.692130  ...   \n",
       "min         0.000000       0.000000       0.000000       0.000000  ...   \n",
       "25%         0.000000       0.000000       0.000000       0.000000  ...   \n",
       "50%         0.000000       0.000000       0.000000       0.000000  ...   \n",
       "75%         0.000000       0.000000       0.000000       0.000000  ...   \n",
       "max       213.000000     217.000000     217.000000     217.000000  ...   \n",
       "\n",
       "                 775       776       777            778            779  \\\n",
       "count  131600.000000  131600.0  131600.0  131600.000000  131600.000000   \n",
       "mean        0.000266       0.0       0.0       0.001854       0.000243   \n",
       "std         0.096481       0.0       0.0       0.672608       0.088211   \n",
       "min         0.000000       0.0       0.0       0.000000       0.000000   \n",
       "25%         0.000000       0.0       0.0       0.000000       0.000000   \n",
       "50%         0.000000       0.0       0.0       0.000000       0.000000   \n",
       "75%         0.000000       0.0       0.0       0.000000       0.000000   \n",
       "max        35.000000       0.0       0.0     244.000000      32.000000   \n",
       "\n",
       "            780       781       782       783       784  \n",
       "count  131600.0  131600.0  131600.0  131600.0  131600.0  \n",
       "mean        0.0       0.0       0.0       0.0       0.0  \n",
       "std         0.0       0.0       0.0       0.0       0.0  \n",
       "min         0.0       0.0       0.0       0.0       0.0  \n",
       "25%         0.0       0.0       0.0       0.0       0.0  \n",
       "50%         0.0       0.0       0.0       0.0       0.0  \n",
       "75%         0.0       0.0       0.0       0.0       0.0  \n",
       "max         0.0       0.0       0.0       0.0       0.0  \n",
       "\n",
       "[8 rows x 785 columns]"
      ]
     },
     "execution_count": 6,
     "metadata": {},
     "output_type": "execute_result"
    }
   ],
   "source": [
    "df.describe()"
   ]
  },
  {
   "cell_type": "markdown",
   "id": "06e8fc58",
   "metadata": {},
   "source": [
    "# Preprocessing data"
   ]
  },
  {
   "cell_type": "code",
   "execution_count": 7,
   "id": "239b8fd2",
   "metadata": {},
   "outputs": [
    {
     "name": "stdout",
     "output_type": "stream",
     "text": [
      "Any missing value? 0\n",
      "Any duplicates? 0\n",
      "Any values outside the range of 0 and 255? 0\n"
     ]
    }
   ],
   "source": [
    "# Is there any missing values\n",
    "df.dropna(inplace=True)\n",
    "num_missing_values = df.isnull().sum().sum()\n",
    "\n",
    "# Remove duplicates if any\n",
    "df.drop_duplicates(inplace=True)\n",
    "num_duplicates = df.duplicated().sum()\n",
    "\n",
    "# Make sure the grayscale values to be between 0 and 255\n",
    "df = np.clip(df, 0, 255)\n",
    "num_values_outside_range = ((df < 0) | (df > 255)).sum().sum()\n",
    "\n",
    "# Check if we have any null values or duplicated rows or values outside (0, 255) range.\n",
    "print(f\"Any missing value? {num_missing_values}\")\n",
    "print(f\"Any duplicates? {num_duplicates}\")\n",
    "print(f\"Any values outside the range of 0 and 255? {num_values_outside_range}\")"
   ]
  },
  {
   "cell_type": "code",
   "execution_count": 8,
   "id": "a695e6de",
   "metadata": {},
   "outputs": [],
   "source": [
    "# We split our dataframe into feature matrix (X) and target vector (y)\n",
    "X = df.loc[:, 1:]\n",
    "y = df.loc[:, 0]\n",
    "\n",
    "X.shape, y.shape\n",
    "\n",
    "del df"
   ]
  },
  {
   "cell_type": "code",
   "execution_count": 9,
   "id": "087447e8",
   "metadata": {},
   "outputs": [],
   "source": [
    "#Data Scaling to bring the input values between 0 to 1\n",
    "X = X.astype('float32') / 255\n",
    "\n",
    "# Convert target variable to integer labels\n",
    "y = y.astype(int)"
   ]
  },
  {
   "cell_type": "code",
   "execution_count": 10,
   "id": "c897bc44",
   "metadata": {},
   "outputs": [
    {
     "data": {
      "text/plain": [
       "((784,), 23)"
      ]
     },
     "execution_count": 10,
     "metadata": {},
     "output_type": "execute_result"
    }
   ],
   "source": [
    "# Sample entry number 263\n",
    "sample_image = X.iloc[42]\n",
    "sample_label = y.iloc[42]\n",
    "sample_image.shape, sample_label"
   ]
  },
  {
   "cell_type": "code",
   "execution_count": 11,
   "id": "67b62a2f",
   "metadata": {},
   "outputs": [
    {
     "name": "stdout",
     "output_type": "stream",
     "text": [
      "Label entry No. 42: N\n"
     ]
    },
    {
     "data": {
      "image/png": "[encoded data removed]",
      "text/plain": [
       "<Figure size 640x480 with 1 Axes>"
      ]
     },
     "metadata": {},
     "output_type": "display_data"
    }
   ],
   "source": [
    "print(\"Label entry No. 42:\", label_dictionary[sample_label])\n",
    "plt.imshow(sample_image.values.reshape(28, 28), cmap=plt.cm.gray)\n",
    "plt.show()"
   ]
  },
  {
   "cell_type": "code",
   "execution_count": 12,
   "id": "b0d673b7",
   "metadata": {},
   "outputs": [],
   "source": [
    "def flip_and_rotate(image):\n",
    "    W = 28\n",
    "    H = 28\n",
    "    image = image.reshape(28, 28)\n",
    "    image = np.fliplr(image)\n",
    "    image = np.rot90(image)\n",
    "    return image"
   ]
  },
  {
   "cell_type": "code",
   "execution_count": 13,
   "id": "fe6b1fac",
   "metadata": {},
   "outputs": [
    {
     "name": "stdout",
     "output_type": "stream",
     "text": [
      "Label entry 42: N\n"
     ]
    },
    {
     "data": {
      "image/png": "[encoded data removed]",
      "text/plain": [
       "<Figure size 640x480 with 1 Axes>"
      ]
     },
     "metadata": {},
     "output_type": "display_data"
    }
   ],
   "source": [
    "print(\"Label entry 42:\", label_dictionary[sample_label])\n",
    "plt.imshow(flip_and_rotate(sample_image.values), cmap=plt.cm.gray)\n",
    "plt.show()"
   ]
  },
  {
   "cell_type": "code",
   "execution_count": 14,
   "id": "1b7b86b2",
   "metadata": {},
   "outputs": [
    {
     "data": {
      "text/plain": [
       "(131598, 28, 28)"
      ]
     },
     "execution_count": 14,
     "metadata": {},
     "output_type": "execute_result"
    }
   ],
   "source": [
    "# Next we want to apply reshape_and_rotate to all images in X_train\n",
    "X = np.asarray(X)\n",
    "X = np.apply_along_axis(flip_and_rotate, 1, X)\n",
    "X.shape"
   ]
  },
  {
   "cell_type": "code",
   "execution_count": 15,
   "id": "6bda3e63",
   "metadata": {},
   "outputs": [
    {
     "data": {
      "image/png": "[encoded data removed]",
      "text/plain": [
       "<Figure size 960x480 with 10 Axes>"
      ]
     },
     "metadata": {},
     "output_type": "display_data"
    }
   ],
   "source": [
    "plt.figure(figsize=(12, 6), dpi=80)  # Adjust the figure size to accommodate two rows\n",
    "for i in range(100, 110):  # Update the range to select 10 samples\n",
    "    plt.subplot(2, 5, i - 99)  # Use 2 rows and 5 columns for displaying the samples\n",
    "    plt.imshow(X[i], cmap=plt.cm.gray)\n",
    "    plt.title(label_dictionary[y[i]])\n",
    "plt.tight_layout()  # Adjust the spacing between subplots\n",
    "plt.show()"
   ]
  },
  {
   "cell_type": "code",
   "execution_count": 16,
   "id": "f0d34b6a",
   "metadata": {},
   "outputs": [
    {
     "data": {
      "text/plain": [
       "47"
      ]
     },
     "execution_count": 16,
     "metadata": {},
     "output_type": "execute_result"
    }
   ],
   "source": [
    "#Finding the number of output columns\n",
    "number_of_classes = y.nunique()\n",
    "number_of_classes"
   ]
  },
  {
   "cell_type": "code",
   "execution_count": 17,
   "id": "4e19386b",
   "metadata": {},
   "outputs": [
    {
     "data": {
      "text/plain": [
       "(131598, 47)"
      ]
     },
     "execution_count": 17,
     "metadata": {},
     "output_type": "execute_result"
    }
   ],
   "source": [
    "#One hot encoding of numpy array\n",
    "y = np_utils.to_categorical(y, number_of_classes)\n",
    "y.shape"
   ]
  },
  {
   "cell_type": "code",
   "execution_count": 18,
   "id": "d307dd61",
   "metadata": {},
   "outputs": [
    {
     "data": {
      "text/plain": [
       "(131598, 28, 28, 1)"
      ]
     },
     "execution_count": 18,
     "metadata": {},
     "output_type": "execute_result"
    }
   ],
   "source": [
    "# Reshaping the train data\n",
    "# As tensorflow requires 4D Array, (batch X width X height X channel) and our x_train is 3D array (no. of images X width X height), we will be adding one more dimension to the x_train\n",
    "X = X.reshape(-1, 28, 28, 1)\n",
    "X.shape"
   ]
  },
  {
   "cell_type": "markdown",
   "id": "162c386b",
   "metadata": {},
   "source": [
    "# Split Data"
   ]
  },
  {
   "cell_type": "code",
   "execution_count": 19,
   "id": "ca9d5537",
   "metadata": {},
   "outputs": [
    {
     "name": "stdout",
     "output_type": "stream",
     "text": [
      "(105278, 28, 28, 1)\n",
      "(26320, 28, 28, 1)\n",
      "(105278, 47)\n",
      "(26320, 47)\n"
     ]
    }
   ],
   "source": [
    "# Split 20% validation \n",
    "X_train, X_test, y_train, y_test = train_test_split(X, \n",
    "                                                  y, \n",
    "                                                  test_size= 0.2,\n",
    "                                                  stratify = y,\n",
    "                                                  random_state=88)\n",
    "\n",
    "print(X_train.shape)\n",
    "print(X_test.shape)\n",
    "print(y_train.shape)\n",
    "print(y_test.shape)\n",
    "del X\n",
    "del y"
   ]
  },
  {
   "cell_type": "markdown",
   "id": "aa2cb0b8",
   "metadata": {},
   "source": [
    "# Build CNN model"
   ]
  },
  {
   "cell_type": "markdown",
   "id": "0cbad6ed",
   "metadata": {},
   "source": [
    "cnn_model = Sequential()\n",
    "\n",
    "cnn_model.add(layers.Conv2D(filters=32, kernel_size=(5,5), padding='same', activation='relu', input_shape=(28, 28, 1)))\n",
    "cnn_model.add(layers.MaxPool2D(strides=2))\n",
    "\n",
    "cnn_model.add(layers.Conv2D(filters=48, kernel_size=(5,5), padding='valid', activation='relu'))\n",
    "cnn_model.add(layers.MaxPool2D(strides=2))\n",
    "\n",
    "cnn_model.add(layers.Flatten())\n",
    "\n",
    "cnn_model.add(layers.Dense(256, activation='relu'))\n",
    "cnn_model.add(layers.Dense(84, activation='relu'))\n",
    "\n",
    "cnn_model.add(layers.Dropout(0.2))\n",
    "\n",
    "cnn_model.add(layers.Dense(number_of_classes, activation='softmax'))\n",
    "\n",
    "cnn_model.summary()"
   ]
  },
  {
   "cell_type": "code",
   "execution_count": 20,
   "id": "7712b89d",
   "metadata": {},
   "outputs": [
    {
     "name": "stdout",
     "output_type": "stream",
     "text": [
      "Model: \"sequential\"\n",
      "_________________________________________________________________\n",
      "Layer (type)                 Output Shape              Param #   \n",
      "=================================================================\n",
      "conv2d (Conv2D)              (None, 28, 28, 32)        832       \n",
      "_________________________________________________________________\n",
      "max_pooling2d (MaxPooling2D) (None, 14, 14, 32)        0         \n",
      "_________________________________________________________________\n",
      "conv2d_1 (Conv2D)            (None, 10, 10, 48)        38448     \n",
      "_________________________________________________________________\n",
      "max_pooling2d_1 (MaxPooling2 (None, 5, 5, 48)          0         \n",
      "_________________________________________________________________\n",
      "conv2d_2 (Conv2D)            (None, 5, 5, 64)          27712     \n",
      "_________________________________________________________________\n",
      "max_pooling2d_2 (MaxPooling2 (None, 2, 2, 64)          0         \n",
      "_________________________________________________________________\n",
      "flatten (Flatten)            (None, 256)               0         \n",
      "_________________________________________________________________\n",
      "dense (Dense)                (None, 256)               65792     \n",
      "_________________________________________________________________\n",
      "dense_1 (Dense)              (None, 84)                21588     \n",
      "_________________________________________________________________\n",
      "dropout (Dropout)            (None, 84)                0         \n",
      "_________________________________________________________________\n",
      "dense_2 (Dense)              (None, 47)                3995      \n",
      "=================================================================\n",
      "Total params: 158,367\n",
      "Trainable params: 158,367\n",
      "Non-trainable params: 0\n",
      "_________________________________________________________________\n"
     ]
    }
   ],
   "source": [
    "cnn_model = Sequential()\n",
    "\n",
    "cnn_model.add(layers.Conv2D(filters=32, kernel_size=(5,5), padding='same', activation='relu', input_shape=(28, 28, 1)))\n",
    "cnn_model.add(layers.MaxPool2D(strides=2))\n",
    "\n",
    "cnn_model.add(layers.Conv2D(filters=48, kernel_size=(5,5), padding='valid', activation='relu'))\n",
    "cnn_model.add(layers.MaxPool2D(strides=2))\n",
    "\n",
    "cnn_model.add(layers.Conv2D(filters=64, kernel_size=(3,3), padding='same', activation='relu'))\n",
    "cnn_model.add(layers.MaxPool2D(strides=2))\n",
    "\n",
    "cnn_model.add(layers.Flatten())\n",
    "\n",
    "cnn_model.add(layers.Dense(256, activation='relu'))\n",
    "cnn_model.add(layers.Dense(84, activation='relu'))\n",
    "\n",
    "cnn_model.add(layers.Dropout(0.2))\n",
    "\n",
    "cnn_model.add(layers.Dense(number_of_classes, activation='softmax'))\n",
    "\n",
    "cnn_model.summary()"
   ]
  },
  {
   "cell_type": "markdown",
   "id": "2379f822",
   "metadata": {},
   "source": [
    "cnn_model = Sequential()\n",
    "cnn_model.add(layers.Conv2D(filters=32, kernel_size=(3, 3), padding='same', strides=(1,1), activation='relu', input_shape=(28, 28, 1)))\n",
    "cnn_model.add(layers.Dropout(.2))\n",
    "cnn_model.add(layers.MaxPool2D(pool_size=(2, 2), strides=(2, 2)))\n",
    "cnn_model.add(layers.Conv2D(filters=64, kernel_size=(3, 3), padding='same', strides=(1,1), activation='relu'))\n",
    "cnn_model.add(layers.Dropout(.2))\n",
    "cnn_model.add(layers.MaxPool2D(pool_size=(2, 2), strides=(2, 2)))\n",
    "cnn_model.add(layers.Flatten())\n",
    "cnn_model.add(layers.Dense(units=128, activation='relu'))\n",
    "cnn_model.add(layers.Dropout(.5))\n",
    "cnn_model.add(layers.Dense(units=47, activation='softmax'))\n",
    "\n",
    "cnn_model.summary()"
   ]
  },
  {
   "cell_type": "code",
   "execution_count": 21,
   "id": "6b008ff0",
   "metadata": {},
   "outputs": [],
   "source": [
    "# Compile the CNN model with categorical cross-entropy loss, the specified optimizer, and accuracy metric\n",
    "cnn_model.compile(optimizer=tf.keras.optimizers.Adam(0.001),\n",
    "              loss=\"categorical_crossentropy\",\n",
    "              metrics=[\"accuracy\"])\n",
    "\n",
    "# Create an EarlyStopping callback to monitor validation loss and stop training if it doesn't improve for 5 epochs\n",
    "early_stopping = EarlyStopping(monitor='val_loss', patience=5, verbose=1, mode='min')\n",
    "\n",
    "# Create a ModelCheckpoint callback to save the best model during training based on validation loss\n",
    "mcp_save = ModelCheckpoint('./saved/cnn.h5', save_best_only=True, monitor='val_loss', verbose=1, mode='auto')\n",
    "\n",
    "# Create a ReduceLROnPlateau callback to reduce the learning rate if validation loss plateaus for 3 epochs\n",
    "RLP = ReduceLROnPlateau(monitor='val_loss', patience=3, factor=0.2, min_lr=0.0001)"
   ]
  },
  {
   "cell_type": "code",
   "execution_count": 22,
   "id": "a648e49f",
   "metadata": {},
   "outputs": [
    {
     "name": "stdout",
     "output_type": "stream",
     "text": [
      "Epoch 1/100\n",
      "3290/3290 - 22s - loss: 0.7720 - accuracy: 0.7547 - val_loss: 0.4414 - val_accuracy: 0.8440\n",
      "\n",
      "Epoch 00001: val_loss improved from inf to 0.44144, saving model to ./saved\\cnn.h5\n",
      "Epoch 2/100\n",
      "3290/3290 - 12s - loss: 0.4216 - accuracy: 0.8529 - val_loss: 0.3806 - val_accuracy: 0.8659\n",
      "\n",
      "Epoch 00002: val_loss improved from 0.44144 to 0.38064, saving model to ./saved\\cnn.h5\n",
      "Epoch 3/100\n",
      "3290/3290 - 12s - loss: 0.3682 - accuracy: 0.8689 - val_loss: 0.3762 - val_accuracy: 0.8665\n",
      "\n",
      "Epoch 00003: val_loss improved from 0.38064 to 0.37622, saving model to ./saved\\cnn.h5\n",
      "Epoch 4/100\n",
      "3290/3290 - 12s - loss: 0.3380 - accuracy: 0.8777 - val_loss: 0.3499 - val_accuracy: 0.8750\n",
      "\n",
      "Epoch 00004: val_loss improved from 0.37622 to 0.34992, saving model to ./saved\\cnn.h5\n",
      "Epoch 5/100\n",
      "3290/3290 - 12s - loss: 0.3144 - accuracy: 0.8845 - val_loss: 0.3415 - val_accuracy: 0.8787\n",
      "\n",
      "Epoch 00005: val_loss improved from 0.34992 to 0.34145, saving model to ./saved\\cnn.h5\n",
      "Epoch 6/100\n",
      "3290/3290 - 11s - loss: 0.2978 - accuracy: 0.8886 - val_loss: 0.3449 - val_accuracy: 0.8797\n",
      "\n",
      "Epoch 00006: val_loss did not improve from 0.34145\n",
      "Epoch 7/100\n",
      "3290/3290 - 14s - loss: 0.2819 - accuracy: 0.8928 - val_loss: 0.3578 - val_accuracy: 0.8771\n",
      "\n",
      "Epoch 00007: val_loss did not improve from 0.34145\n",
      "Epoch 8/100\n",
      "3290/3290 - 13s - loss: 0.2700 - accuracy: 0.8970 - val_loss: 0.3550 - val_accuracy: 0.8813\n",
      "\n",
      "Epoch 00008: val_loss did not improve from 0.34145\n",
      "Epoch 9/100\n",
      "3290/3290 - 13s - loss: 0.2124 - accuracy: 0.9165 - val_loss: 0.3410 - val_accuracy: 0.8890\n",
      "\n",
      "Epoch 00009: val_loss improved from 0.34145 to 0.34097, saving model to ./saved\\cnn.h5\n",
      "Epoch 10/100\n",
      "3290/3290 - 12s - loss: 0.1929 - accuracy: 0.9224 - val_loss: 0.3476 - val_accuracy: 0.8898\n",
      "\n",
      "Epoch 00010: val_loss did not improve from 0.34097\n",
      "Epoch 11/100\n",
      "3290/3290 - 12s - loss: 0.1804 - accuracy: 0.9259 - val_loss: 0.3601 - val_accuracy: 0.8893\n",
      "\n",
      "Epoch 00011: val_loss did not improve from 0.34097\n",
      "Epoch 12/100\n",
      "3290/3290 - 13s - loss: 0.1723 - accuracy: 0.9292 - val_loss: 0.3665 - val_accuracy: 0.8915\n",
      "\n",
      "Epoch 00012: val_loss did not improve from 0.34097\n",
      "Epoch 13/100\n",
      "3290/3290 - 14s - loss: 0.1588 - accuracy: 0.9343 - val_loss: 0.3851 - val_accuracy: 0.8894\n",
      "\n",
      "Epoch 00013: val_loss did not improve from 0.34097\n",
      "Epoch 14/100\n",
      "3290/3290 - 12s - loss: 0.1538 - accuracy: 0.9356 - val_loss: 0.3917 - val_accuracy: 0.8905\n",
      "\n",
      "Epoch 00014: val_loss did not improve from 0.34097\n",
      "Epoch 00014: early stopping\n"
     ]
    }
   ],
   "source": [
    "# Model Fitting\n",
    "history = cnn_model.fit(X_train,  # Training data features\n",
    "                        y_train,  # Training data labels\n",
    "                        epochs=100,  # Number of epochs for training the model\n",
    "                        batch_size=32,  # Number of samples per gradient update\n",
    "                        verbose=2,  # Verbosity mode. 0 = silent, 1 = progress bar, 2 = one line per epoch\n",
    "                        validation_data=(X_test, y_test),  # Validation data for evaluating the model\n",
    "                        callbacks=[mcp_save, early_stopping, RLP])  # Callbacks for additional functionality during training"
   ]
  },
  {
   "cell_type": "code",
   "execution_count": 24,
   "id": "9f302c46",
   "metadata": {},
   "outputs": [
    {
     "data": {
      "image/png": "[encoded data removed]",
      "text/plain": [
       "<Figure size 1400x500 with 2 Axes>"
      ]
     },
     "metadata": {},
     "output_type": "display_data"
    }
   ],
   "source": [
    "import matplotlib.pyplot as plt\n",
    "\n",
    "def plot_combined_graph(epochs, acc, val_acc, loss, val_loss):\n",
    "    fig, axs = plt.subplots(1, 2, figsize=(14, 5))  # 1 row, 2 columns\n",
    "    \n",
    "    # Plot training & validation accuracy\n",
    "    axs[0].plot(epochs, acc, 'b')\n",
    "    axs[0].plot(epochs, val_acc, 'r')\n",
    "    axs[0].set_title('Model Accuracy')\n",
    "    axs[0].set_xlabel('Epoch')\n",
    "    axs[0].set_ylabel('Accuracy')\n",
    "    axs[0].legend(['Train', 'Validation'], loc='upper left')\n",
    "    \n",
    "    # Plot training & validation loss\n",
    "    axs[1].plot(epochs, loss, 'b')\n",
    "    axs[1].plot(epochs, val_loss, 'r')\n",
    "    axs[1].set_title('Model Loss')\n",
    "    axs[1].set_xlabel('Epoch')\n",
    "    axs[1].set_ylabel('Loss')\n",
    "    axs[1].legend(['Train', 'Validation'], loc='upper right')\n",
    "    \n",
    "    # Adjust layout\n",
    "    plt.tight_layout()\n",
    "    plt.show()\n",
    "\n",
    "acc = history.history['accuracy']\n",
    "val_acc = history.history['val_accuracy']\n",
    "loss = history.history['loss']\n",
    "val_loss = history.history['val_loss']\n",
    "epochs = range(1,len(acc)+1)\n",
    "\n",
    "# Call the combined plot function\n",
    "plot_combined_graph(epochs, acc, val_acc, loss, val_loss)\n"
   ]
  },
  {
   "cell_type": "markdown",
   "id": "c60ab250",
   "metadata": {},
   "source": [
    "# Evaluate Model"
   ]
  },
  {
   "cell_type": "code",
   "execution_count": 28,
   "id": "afe44dad",
   "metadata": {},
   "outputs": [],
   "source": [
    "# Load the saved model\n",
    "cnn_model = load_model('./saved/cnn.h5')"
   ]
  },
  {
   "cell_type": "code",
   "execution_count": 25,
   "id": "abd47e03",
   "metadata": {},
   "outputs": [
    {
     "name": "stdout",
     "output_type": "stream",
     "text": [
      "823/823 [==============================] - 3s 3ms/step - loss: 0.3917 - accuracy: 0.8905\n",
      "Loss value is  0.3916613757610321\n",
      "Accuracy value is  0.8904635310173035\n"
     ]
    }
   ],
   "source": [
    "# Evaluate new data\n",
    "evaluation = cnn_model.evaluate(X_test, y_test)\n",
    "print('Loss value is ',evaluation[0])\n",
    "print('Accuracy value is ',evaluation[1])"
   ]
  },
  {
   "cell_type": "code",
   "execution_count": 27,
   "id": "3a54cdb5",
   "metadata": {},
   "outputs": [
    {
     "data": {
      "image/png": "[encoded data removed]",
      "text/plain": [
       "<Figure size 1200x800 with 24 Axes>"
      ]
     },
     "metadata": {},
     "output_type": "display_data"
    }
   ],
   "source": [
    "# Visualising some predicted values\n",
    "\n",
    "#Prediction\n",
    "y_pred = cnn_model.predict(X_test)\n",
    "\n",
    "# Set the number of samples to display\n",
    "num_samples = 24\n",
    "\n",
    "# Get random indices for the samples\n",
    "random_indices = random.sample(range(len(X_test)), num_samples)\n",
    "\n",
    "# Create a figure with subplots\n",
    "fig = plt.figure(figsize=(12, 8))\n",
    "\n",
    "for i, idx in enumerate(random_indices):\n",
    "    # Create a subplot for each sample\n",
    "    ax = fig.add_subplot(4, 6, i+1)\n",
    "\n",
    "    # Display the image\n",
    "    ax.imshow(X_test[idx], cmap=plt.cm.gray)\n",
    "\n",
    "    # Get the predicted and true labels\n",
    "    predicted_label = label_dictionary[y_pred[idx].argmax()]\n",
    "    true_label = label_dictionary[y_test[idx].argmax()]\n",
    "\n",
    "    # Set the title with prediction and true label\n",
    "    ax.set_title(\"Predicted: {}\\nTrue: {}\".format(predicted_label, true_label))\n",
    "\n",
    "    # Remove the axis ticks and labels\n",
    "    ax.axis(\"off\")\n",
    "\n",
    "# Adjust the spacing between subplots\n",
    "plt.tight_layout()\n",
    "\n",
    "# Show the plot\n",
    "plt.show()"
   ]
  }
 ],
 "metadata": {
  "kernelspec": {
   "display_name": "gpu_env",
   "language": "python",
   "name": "python3"
  },
  "language_info": {
   "codemirror_mode": {
    "name": "ipython",
    "version": 3
   },
   "file_extension": ".py",
   "mimetype": "text/x-python",
   "name": "python",
   "nbconvert_exporter": "python",
   "pygments_lexer": "ipython3",
   "version": "3.9.18"
  }
 },
 "nbformat": 4,
 "nbformat_minor": 5
}
